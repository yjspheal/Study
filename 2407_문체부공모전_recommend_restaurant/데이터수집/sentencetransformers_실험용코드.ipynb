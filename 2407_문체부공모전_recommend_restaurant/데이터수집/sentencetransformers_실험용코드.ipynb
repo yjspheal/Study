{
 "cells": [
  {
   "cell_type": "markdown",
   "id": "4e8f92cc",
   "metadata": {},
   "source": [
    "# sentence transformers 임베딩 테스트용 파일"
   ]
  },
  {
   "cell_type": "markdown",
   "id": "804b2205",
   "metadata": {},
   "source": [
    "## 임베딩 모델 설정 및 임베딩 대상 파일 import"
   ]
  },
  {
   "cell_type": "code",
   "execution_count": 1,
   "id": "9b4b8aba",
   "metadata": {},
   "outputs": [
    {
     "name": "stderr",
     "output_type": "stream",
     "text": [
      "C:\\Users\\thdth\\anaconda3\\Lib\\site-packages\\sentence_transformers\\cross_encoder\\CrossEncoder.py:11: TqdmExperimentalWarning: Using `tqdm.autonotebook.tqdm` in notebook mode. Use `tqdm.tqdm` instead to force console mode (e.g. in jupyter console)\n",
      "  from tqdm.autonotebook import tqdm, trange\n"
     ]
    },
    {
     "name": "stdout",
     "output_type": "stream",
     "text": [
      "WARNING:tensorflow:From C:\\Users\\thdth\\anaconda3\\Lib\\site-packages\\keras\\src\\losses.py:2976: The name tf.losses.sparse_softmax_cross_entropy is deprecated. Please use tf.compat.v1.losses.sparse_softmax_cross_entropy instead.\n",
      "\n"
     ]
    }
   ],
   "source": [
    "import pandas as pd\n",
    "from sentence_transformers import SentenceTransformer\n",
    "from sklearn.metrics.pairwise import cosine_similarity\n",
    "\n",
    "model= SentenceTransformer('paraphrase-MpNet-base-v2')\n",
    "\n",
    "df = pd.read_csv('./0624_final_df_with_summaries_1~757.csv')\n",
    "df['임베딩결과값'] = None\n",
    "total_count = len(df)"
   ]
  },
  {
   "cell_type": "markdown",
   "id": "bd15da49",
   "metadata": {},
   "source": [
    "## 임베딩 실행"
   ]
  },
  {
   "cell_type": "code",
   "execution_count": null,
   "id": "4ba7c3a4",
   "metadata": {},
   "outputs": [],
   "source": [
    "# 'review_summarized' 열의 텍스트를 임베딩하여 새로운 열 '임베딩결과값'에 저장\n",
    "for index, row in df.iterrows():\n",
    "    text = row['review_summarized']\n",
    "    embedding = model.encode(text)\n",
    "    \n",
    "    # 임베딩 결과를 '임베딩결과값' 열에 할당\n",
    "    df.at[index, '임베딩결과값'] = embedding.tolist()  # 리스트로 변환하여 저장\n",
    "    \n",
    "    # 진행 상황 출력\n",
    "    print(f\"Embedding progress: {index + 1}/{len(df)}\")\n",
    "    \n",
    "    # 매 반복마다 중간 결과 저장\n",
    "    if (index + 1) % 100 == 0:\n",
    "        df.to_csv('./0624_final_df_with_summaries_1~757_st임베딩중간결과.csv', encoding='utf-8-sig', index=False)\n",
    "\n",
    "# 최종 결과 저장\n",
    "df.to_csv('./0624_final_df_with_summaries_1~757_st임베딩완료.csv', encoding='utf-8-sig', index=False)"
   ]
  },
  {
   "cell_type": "markdown",
   "id": "63d8849b",
   "metadata": {},
   "source": [
    "## 임베딩 파일 불러오기"
   ]
  },
  {
   "cell_type": "code",
   "execution_count": 2,
   "id": "922fb619",
   "metadata": {},
   "outputs": [],
   "source": [
    "import pandas as pd\n",
    "from sentence_transformers import SentenceTransformer\n",
    "from sklearn.metrics.pairwise import cosine_similarity\n",
    "import openai\n",
    "import ast\n",
    "\n",
    "df = pd.read_csv('./0624_final_df_with_summaries_1~757_st임베딩완료.csv')\n",
    "# 임베딩 결과값을 리스트 형식으로 변환\n",
    "# 임베딩결과값 열을 리스트로 변환하여 코사인 유사도를 계산할 수 있도록 준비하기 위함\n",
    "df['임베딩결과값'] = df['임베딩결과값'].apply(ast.literal_eval)"
   ]
  },
  {
   "cell_type": "markdown",
   "id": "e28d5f3e",
   "metadata": {},
   "source": [
    "## 코사인 유사도를 활용한 추천시스템 테스트"
   ]
  },
  {
   "cell_type": "code",
   "execution_count": 4,
   "id": "5fa3cd26",
   "metadata": {},
   "outputs": [
    {
     "name": "stdout",
     "output_type": "stream",
     "text": [
      "추천을 받고 싶은 음식점을 입력하세요: 고기 구워주는 식당 알려줘\n",
      "추천 음식점 1: 옥정 (유사도: 0.6631)\n",
      "추천 음식점 2: 샐러드바스켓 신촌점 (유사도: 0.6578)\n",
      "추천 음식점 3: 도회푸드 건강한쌈 홍대점 (유사도: 0.6578)\n"
     ]
    }
   ],
   "source": [
    "# 임베딩 함수 정의\n",
    "def get_text_embedding(text):\n",
    "    return model.encode(text)\n",
    "\n",
    "# 추천 시스템 함수 정의\n",
    "def recommend_documents(prompt, df, top_n=3):\n",
    "    # 입력 텍스트 임베딩\n",
    "    input_embedding = get_text_embedding(prompt)\n",
    "    \n",
    "    # 코사인 유사도 계산\n",
    "    embeddings = list(df['임베딩결과값'])\n",
    "    similarities = cosine_similarity([input_embedding], embeddings)[0]\n",
    "    \n",
    "    # 유사도 높은 순으로 정렬하여 상위 n개 추천\n",
    "    top_indices = similarities.argsort()[-top_n:][::-1]  # 유사도가 높은 순으로 인덱스 정렬\n",
    "    \n",
    "    # 상위 n개 추천 음식점 이름 리스트와 유사도\n",
    "    recommended_restaurants = []\n",
    "    for idx in top_indices:\n",
    "        restaurant_info = {\n",
    "            'restaurant_name': df.iloc[idx]['restaurant_name'],\n",
    "            'similarity': similarities[idx]\n",
    "        }\n",
    "        recommended_restaurants.append(restaurant_info)\n",
    "    \n",
    "    return recommended_restaurants\n",
    "\n",
    "# 사용자 입력 받기\n",
    "user_input = input(\"추천을 받고 싶은 음식점을 입력하세요: \")\n",
    "\n",
    "# 추천 실행\n",
    "recommendation = recommend_documents(user_input, df)\n",
    "for i, rec in enumerate(recommendation, 1):\n",
    "    print(f\"추천 음식점 {i}: {rec['restaurant_name']} (유사도: {rec['similarity']:.4f})\")"
   ]
  },
  {
   "cell_type": "code",
   "execution_count": null,
   "id": "8c330ac0",
   "metadata": {},
   "outputs": [],
   "source": []
  }
 ],
 "metadata": {
  "kernelspec": {
   "display_name": "Python 3 (ipykernel)",
   "language": "python",
   "name": "python3"
  },
  "language_info": {
   "codemirror_mode": {
    "name": "ipython",
    "version": 3
   },
   "file_extension": ".py",
   "mimetype": "text/x-python",
   "name": "python",
   "nbconvert_exporter": "python",
   "pygments_lexer": "ipython3",
   "version": "3.11.4"
  },
  "toc": {
   "base_numbering": 1,
   "nav_menu": {},
   "number_sections": true,
   "sideBar": true,
   "skip_h1_title": true,
   "title_cell": "Table of Contents",
   "title_sidebar": "Contents",
   "toc_cell": false,
   "toc_position": {},
   "toc_section_display": true,
   "toc_window_display": false
  }
 },
 "nbformat": 4,
 "nbformat_minor": 5
}
