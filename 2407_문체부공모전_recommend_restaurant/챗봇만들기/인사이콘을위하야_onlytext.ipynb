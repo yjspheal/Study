{
 "cells": [
  {
   "cell_type": "markdown",
   "id": "ebfc61b6",
   "metadata": {
    "toc": true
   },
   "source": [
    "<h1>Table of Contents<span class=\"tocSkip\"></span></h1>\n",
    "<div class=\"toc\"><ul class=\"toc-item\"></ul></div>"
   ]
  },
  {
   "cell_type": "code",
   "execution_count": null,
   "id": "ec3b19c1",
   "metadata": {},
   "outputs": [],
   "source": [
    "openai_api_key = ''  # OpenAI API 키를 입력하세요\n"
   ]
  },
  {
   "cell_type": "code",
   "execution_count": null,
   "id": "a6eeaac3",
   "metadata": {},
   "outputs": [],
   "source": [
    "from langchain_openai import ChatOpenAI\n",
    "from langchain.prompts import PromptTemplate\n",
    "from langchain.chains import LLMChain\n",
    "import streamlit as st\n",
    "import time\n",
    "\n",
    "openai_api_key = st.secrets[\"default\"][\"api_key\"]\n",
    "\n",
    "\n",
    "# OpenAI API 설정\n",
    "llm = ChatOpenAI(api_key=openai_api_key, model_name=\"gpt-4o\")\n",
    "\n",
    "# 프롬프트 템플릿 설정\n",
    "prompt_template = PromptTemplate(\n",
    "    input_variables=[\"query\"],\n",
    "    template=\"\"\"\n",
    "    You are an AI assistant that helps users find restaurants. Extract the following information from the user's query:\n",
    "    \n",
    "    1. TPO (one of the following: 회식, 카공, 혼밥, 데이트, 밥약). If not specified, default to \"TPO무관(맛집추천)\".\n",
    "    2. Location (subway station name). If not specified, default to \"지역무관(전체지역추천)\".\n",
    "    3. Taste preferences. If not specified, default to \"맛무관(no편식)\". If the user mentions disliking a specific taste, add \"X\" to the end (e.g., \"매운맛X\").\n",
    "    4. Cuisine category (e.g., 한식, 중식, 양식). If not specified, default to \"카테고리무관\".\n",
    "    5. Additional conditions (if specified):\n",
    "       - Parking availability (주차 가능)\n",
    "       - Reservation availability (예약 가능)\n",
    "       - Group seating availability (단체석 가능)\n",
    "\n",
    "    User's query: {query}\n",
    "    Extracted information:\n",
    "    \"\"\"\n",
    ")\n",
    "\n",
    "\n",
    "# LLM 체인 설정\n",
    "llm_chain = LLMChain(\n",
    "    llm=llm,\n",
    "    prompt=prompt_template\n",
    ")\n",
    "\n",
    "def extract_restaurant_info(user_query):\n",
    "    response = llm_chain.run(query=user_query)\n",
    "    return response\n",
    "\n",
    "st.title(\"우리팀화이팅~~~\")\n",
    "\n",
    "\n",
    "\n",
    "user_query = \"\"\n",
    "extracted_info = \"\"\n",
    "is_confirmed = False\n",
    "iteration = 0\n",
    "\n",
    "while not is_confirmed:\n",
    "    iteration += 1\n",
    "    user_query = st.text_input(\"원하는 음식점의 조건을 입력하세요\", key=f\"user_query_{iteration}\")\n",
    "    \n",
    "    while not user_query:\n",
    "        time.sleep(0.5)\n",
    "        \n",
    "    extracted_info = extract_restaurant_info(user_query)\n",
    "    st.write(extracted_info)\n",
    "\n",
    "    col1, col2 = st.columns(2)\n",
    "    \n",
    "    st.write('위 내용이 맞으면 예, 틀리면 아니요를 눌러주세요.')\n",
    "    with col1:\n",
    "        yes_button = st.button(\"예\", key=f\"yes_button_{iteration}\")\n",
    "    with col2:\n",
    "        no_button = st.button(\"아니요\", key=f\"no_button_{iteration}\")\n",
    "    \n",
    "    while not (yes_button or no_button):\n",
    "        time.sleep(0.5)\n",
    "    \n",
    "    if yes_button:\n",
    "        is_confirmed = True\n",
    "    elif no_button:\n",
    "        user_query = \"\"\n",
    "        st.write(\"조건을 다시 입력하세요.\")\n",
    "        continue\n",
    "\n",
    "st.write(\"전달해주신 내용을 기반으로 추천을 진행합니다...\")"
   ]
  },
  {
   "cell_type": "code",
   "execution_count": null,
   "id": "c2692e09",
   "metadata": {},
   "outputs": [],
   "source": []
  },
  {
   "cell_type": "code",
   "execution_count": null,
   "id": "2ae556c7",
   "metadata": {},
   "outputs": [],
   "source": []
  },
  {
   "cell_type": "code",
   "execution_count": null,
   "id": "0a695575",
   "metadata": {},
   "outputs": [],
   "source": []
  },
  {
   "cell_type": "code",
   "execution_count": null,
   "id": "061f5676",
   "metadata": {},
   "outputs": [],
   "source": []
  },
  {
   "cell_type": "code",
   "execution_count": null,
   "id": "5ff8d494",
   "metadata": {},
   "outputs": [],
   "source": []
  }
 ],
 "metadata": {
  "kernelspec": {
   "display_name": "Python 3 (ipykernel)",
   "language": "python",
   "name": "python3"
  },
  "language_info": {
   "codemirror_mode": {
    "name": "ipython",
    "version": 3
   },
   "file_extension": ".py",
   "mimetype": "text/x-python",
   "name": "python",
   "nbconvert_exporter": "python",
   "pygments_lexer": "ipython3",
   "version": "3.11.7"
  },
  "toc": {
   "base_numbering": 1,
   "nav_menu": {},
   "number_sections": true,
   "sideBar": true,
   "skip_h1_title": false,
   "title_cell": "Table of Contents",
   "title_sidebar": "Contents",
   "toc_cell": true,
   "toc_position": {
    "height": "calc(100% - 180px)",
    "left": "10px",
    "top": "150px",
    "width": "192.417px"
   },
   "toc_section_display": true,
   "toc_window_display": true
  },
  "varInspector": {
   "cols": {
    "lenName": 16,
    "lenType": 16,
    "lenVar": 40
   },
   "kernels_config": {
    "python": {
     "delete_cmd_postfix": "",
     "delete_cmd_prefix": "del ",
     "library": "var_list.py",
     "varRefreshCmd": "print(var_dic_list())"
    },
    "r": {
     "delete_cmd_postfix": ") ",
     "delete_cmd_prefix": "rm(",
     "library": "var_list.r",
     "varRefreshCmd": "cat(var_dic_list()) "
    }
   },
   "types_to_exclude": [
    "module",
    "function",
    "builtin_function_or_method",
    "instance",
    "_Feature"
   ],
   "window_display": false
  }
 },
 "nbformat": 4,
 "nbformat_minor": 5
}
